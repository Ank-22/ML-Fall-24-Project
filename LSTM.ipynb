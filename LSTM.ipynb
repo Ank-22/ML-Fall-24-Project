{
 "cells": [
  {
   "cell_type": "code",
   "execution_count": 29,
   "metadata": {},
   "outputs": [],
   "source": [
    "import pandas as pd\n",
    "import numpy as np\n",
    "import matplotlib as plt\n",
    "from sklearn.preprocessing import MinMaxScaler\n",
    "from sklearn.model_selection import train_test_split\n",
    "import torch\n",
    "from torch.utils.data import DataLoader, TensorDataset\n",
    "import torch.nn as nn\n",
    "import torch.optim as optim"
   ]
  },
  {
   "cell_type": "code",
   "execution_count": 61,
   "metadata": {},
   "outputs": [
    {
     "name": "stdout",
     "output_type": "stream",
     "text": [
      "<class 'pandas.core.frame.DataFrame'>\n",
      "RangeIndex: 6351 entries, 0 to 6350\n",
      "Data columns (total 22 columns):\n",
      " #   Column           Non-Null Count  Dtype  \n",
      "---  ------           --------------  -----  \n",
      " 0   Datetime         6351 non-null   object \n",
      " 1   Open             6351 non-null   float64\n",
      " 2   Volume           6351 non-null   int64  \n",
      " 3   PE_Ratio         6351 non-null   float64\n",
      " 4   52_Week_High     6351 non-null   float64\n",
      " 5   52_Week_Low      6351 non-null   float64\n",
      " 6   Is_52_week_high  6351 non-null   int64  \n",
      " 7   Is_52_week_low   6351 non-null   int64  \n",
      " 8   Is_high          6351 non-null   int64  \n",
      " 9   Is_low           6351 non-null   int64  \n",
      " 10  Maket_index      6351 non-null   float64\n",
      " 11  Sector_index     6351 non-null   float64\n",
      " 12  SMA_20           6332 non-null   float64\n",
      " 13  SMA_50           6302 non-null   float64\n",
      " 14  EMA_20           6351 non-null   float64\n",
      " 15  EMA_50           6351 non-null   float64\n",
      " 16  BB_upper         6332 non-null   float64\n",
      " 17  BB_lower         6332 non-null   float64\n",
      " 18  RSI              6338 non-null   float64\n",
      " 19  MACD             6351 non-null   float64\n",
      " 20  Target           6351 non-null   float64\n",
      " 21  Delta_Target     6351 non-null   float64\n",
      "dtypes: float64(16), int64(5), object(1)\n",
      "memory usage: 1.1+ MB\n"
     ]
    }
   ],
   "source": [
    "data = pd.read_csv('Dataset/INFY_DATA.csv')\n",
    "data.info()"
   ]
  },
  {
   "cell_type": "code",
   "execution_count": 62,
   "metadata": {},
   "outputs": [],
   "source": [
    "data['Datetime'] = pd.to_datetime(data['Datetime'])\n",
    "data.ffill(inplace=True)\n",
    "data[['Maket_index', 'Sector_index', 'SMA_20', 'SMA_50', 'EMA_20', 'EMA_50', 'BB_upper', 'BB_lower', 'RSI', 'MACD']] = data[['Maket_index', 'Sector_index', 'SMA_20', 'SMA_50', 'EMA_20', 'EMA_50', 'BB_upper', 'BB_lower', 'RSI', 'MACD']].fillna(data[['Maket_index', 'Sector_index', 'SMA_20', 'SMA_50', 'EMA_20', 'EMA_50', 'BB_upper', 'BB_lower', 'RSI', 'MACD']].mean())\n",
    "features = data[['Open', 'Volume', 'PE_Ratio', '52_Week_High', '52_Week_Low', \n",
    "               'Is_52_week_high', 'Is_52_week_low', 'Is_high', 'Is_low', 'Maket_index', \n",
    "               'Sector_index', 'SMA_20', 'SMA_50', 'EMA_20', 'EMA_50', 'BB_upper', \n",
    "               'BB_lower', 'RSI', 'MACD']].values\n",
    "scaler = MinMaxScaler(feature_range=(0, 1))\n",
    "features_scaled = scaler.fit_transform(features)\n",
    "target = data['Target'].values"
   ]
  },
  {
   "cell_type": "code",
   "execution_count": 63,
   "metadata": {},
   "outputs": [
    {
     "name": "stdout",
     "output_type": "stream",
     "text": [
      "NaN values after cleaning:\n",
      "Datetime           0\n",
      "Open               0\n",
      "Volume             0\n",
      "PE_Ratio           0\n",
      "52_Week_High       0\n",
      "52_Week_Low        0\n",
      "Is_52_week_high    0\n",
      "Is_52_week_low     0\n",
      "Is_high            0\n",
      "Is_low             0\n",
      "Maket_index        0\n",
      "Sector_index       0\n",
      "SMA_20             0\n",
      "SMA_50             0\n",
      "EMA_20             0\n",
      "EMA_50             0\n",
      "BB_upper           0\n",
      "BB_lower           0\n",
      "RSI                0\n",
      "MACD               0\n",
      "Target             0\n",
      "Delta_Target       0\n",
      "dtype: int64\n"
     ]
    }
   ],
   "source": [
    "# Verify no NaN values remain\n",
    "print(\"NaN values after cleaning:\")\n",
    "print(data.isna().sum())"
   ]
  },
  {
   "cell_type": "code",
   "execution_count": 64,
   "metadata": {},
   "outputs": [
    {
     "name": "stdout",
     "output_type": "stream",
     "text": [
      "Features shape: (6351, 19)\n",
      "Features min/max: 0.0 1.0000000000000018\n"
     ]
    }
   ],
   "source": [
    "# Print feature statistics for debugging\n",
    "print(\"Features shape:\", features_scaled.shape)\n",
    "print(\"Features min/max:\", features_scaled.min(), features_scaled.max())"
   ]
  },
  {
   "cell_type": "code",
   "execution_count": 65,
   "metadata": {},
   "outputs": [
    {
     "name": "stdout",
     "output_type": "stream",
     "text": [
      "Target shape: (6351,)\n",
      "Target min/max: 1723.0 1939.75\n"
     ]
    }
   ],
   "source": [
    "print(\"Target shape:\", target.shape)\n",
    "print(\"Target min/max:\", target.min(), target.max())"
   ]
  },
  {
   "cell_type": "markdown",
   "metadata": {},
   "source": [
    "## Using Lookback of 60 mins "
   ]
  },
  {
   "cell_type": "code",
   "execution_count": 67,
   "metadata": {},
   "outputs": [],
   "source": [
    "lookback = 60\n",
    "\n",
    "def create_sequences(data, target, lookback):\n",
    "    sequences = []\n",
    "    labels = []\n",
    "    for i in range(len(data) - lookback):\n",
    "        sequences.append(data[i:i+lookback])\n",
    "        labels.append(target[i+lookback])  # target is the value to predict (next day)\n",
    "    return np.array(sequences), np.array(labels)\n",
    "\n",
    "X, y = create_sequences(features_scaled, target, lookback)\n",
    "\n",
    "# Split the data into training and test sets\n",
    "X_train, X_test, y_train, y_test = train_test_split(X, y, test_size=0.2, shuffle=False)\n",
    "\n",
    "# Convert to PyTorch tensors\n",
    "X_train_tensor = torch.tensor(X_train, dtype=torch.float32)\n",
    "y_train_tensor = torch.tensor(y_train, dtype=torch.float32)\n",
    "X_test_tensor = torch.tensor(X_test, dtype=torch.float32)\n",
    "y_test_tensor = torch.tensor(y_test, dtype=torch.float32)\n",
    "\n",
    "# Create DataLoader for batching\n",
    "train_dataset = TensorDataset(X_train_tensor, y_train_tensor)\n",
    "test_dataset = TensorDataset(X_test_tensor, y_test_tensor)\n",
    "\n",
    "train_loader = DataLoader(train_dataset, batch_size=64, shuffle=True)\n",
    "test_loader = DataLoader(test_dataset, batch_size=64, shuffle=False)"
   ]
  },
  {
   "cell_type": "code",
   "execution_count": 68,
   "metadata": {},
   "outputs": [],
   "source": [
    "class StockLSTM(nn.Module):\n",
    "    def __init__(self, input_size, hidden_size, output_size, num_layers):\n",
    "        super(StockLSTM, self).__init__()\n",
    "        \n",
    "        # LSTM layer\n",
    "        self.lstm = nn.LSTM(input_size, hidden_size, num_layers, batch_first=True)\n",
    "        \n",
    "        # Fully connected layer\n",
    "        self.fc = nn.Linear(hidden_size, output_size)\n",
    "    \n",
    "    def forward(self, x):\n",
    "        # Ensure the input is of the correct shape (batch_size, sequence_length, input_size)\n",
    "        batch_size, seq_len, _ = x.size()\n",
    "        \n",
    "        # Pass through LSTM layer\n",
    "        lstm_out, (hn, cn) = self.lstm(x)\n",
    "        \n",
    "        # Use the last hidden state for prediction\n",
    "        last_hidden_state = lstm_out[:, -1, :]  # Last time step's output\n",
    "        \n",
    "        # Fully connected layer to output the prediction\n",
    "        out = self.fc(last_hidden_state)\n",
    "        \n",
    "        return out\n"
   ]
  },
  {
   "cell_type": "code",
   "execution_count": 72,
   "metadata": {},
   "outputs": [
    {
     "name": "stdout",
     "output_type": "stream",
     "text": [
      "StockLSTM(\n",
      "  (lstm): LSTM(19, 128, num_layers=4, batch_first=True)\n",
      "  (fc): Linear(in_features=128, out_features=1, bias=True)\n",
      ")\n"
     ]
    }
   ],
   "source": [
    "# Model initialization\n",
    "input_size = X_train.shape[2]  # Number of features\n",
    "hidden_size = 128  # You can experiment with this\n",
    "output_size = 1  # Predicting one value (the next day's price)\n",
    "num_layers = 4 # Number of LSTM layers\n",
    "\n",
    "model = StockLSTM(input_size, hidden_size, output_size, num_layers)\n",
    "print(model)"
   ]
  },
  {
   "cell_type": "code",
   "execution_count": 73,
   "metadata": {},
   "outputs": [
    {
     "name": "stdout",
     "output_type": "stream",
     "text": [
      "Epoch [1/50], Loss: 3194582.5665\n",
      "Epoch [2/50], Loss: 2895656.5886\n",
      "Epoch [3/50], Loss: 2614529.7911\n",
      "Epoch [4/50], Loss: 2350374.1962\n",
      "Epoch [5/50], Loss: 2109923.4193\n",
      "Epoch [6/50], Loss: 1889630.5601\n",
      "Epoch [7/50], Loss: 1687453.7563\n",
      "Epoch [8/50], Loss: 1502518.2611\n",
      "Epoch [9/50], Loss: 1333208.9684\n",
      "Epoch [10/50], Loss: 1178943.6535\n",
      "Epoch [11/50], Loss: 1038683.5206\n",
      "Epoch [12/50], Loss: 911480.0055\n",
      "Epoch [13/50], Loss: 796526.1954\n",
      "Epoch [14/50], Loss: 692901.8710\n",
      "Epoch [15/50], Loss: 600050.9288\n",
      "Epoch [16/50], Loss: 517078.0075\n",
      "Epoch [17/50], Loss: 443297.4197\n",
      "Epoch [18/50], Loss: 377961.5969\n",
      "Epoch [19/50], Loss: 320468.3845\n",
      "Epoch [20/50], Loss: 270059.6657\n",
      "Epoch [21/50], Loss: 226145.1117\n",
      "Epoch [22/50], Loss: 188147.4444\n",
      "Epoch [23/50], Loss: 155462.7253\n",
      "Epoch [24/50], Loss: 127542.6151\n",
      "Epoch [25/50], Loss: 103869.0969\n",
      "Epoch [26/50], Loss: 83948.4806\n",
      "Epoch [27/50], Loss: 67323.5282\n",
      "Epoch [28/50], Loss: 53571.7790\n",
      "Epoch [29/50], Loss: 42315.4132\n",
      "Epoch [30/50], Loss: 33163.2158\n",
      "Epoch [31/50], Loss: 25805.6210\n",
      "Epoch [32/50], Loss: 19974.4167\n",
      "Epoch [33/50], Loss: 15385.9215\n",
      "Epoch [34/50], Loss: 11816.9850\n",
      "Epoch [35/50], Loss: 9096.6549\n",
      "Epoch [36/50], Loss: 7037.5409\n",
      "Epoch [37/50], Loss: 5485.4239\n",
      "Epoch [38/50], Loss: 4355.1081\n",
      "Epoch [39/50], Loss: 3529.4723\n",
      "Epoch [40/50], Loss: 2942.2107\n",
      "Epoch [41/50], Loss: 2531.3290\n",
      "Epoch [42/50], Loss: 2245.5129\n",
      "Epoch [43/50], Loss: 2054.0395\n",
      "Epoch [44/50], Loss: 1926.3917\n",
      "Epoch [45/50], Loss: 1841.7413\n",
      "Epoch [46/50], Loss: 1788.5418\n",
      "Epoch [47/50], Loss: 1752.7794\n",
      "Epoch [48/50], Loss: 1731.9155\n",
      "Epoch [49/50], Loss: 1722.9197\n",
      "Epoch [50/50], Loss: 1711.7089\n"
     ]
    }
   ],
   "source": [
    "# Hyperparameters\n",
    "epochs = 50\n",
    "learning_rate = 0.01\n",
    "\n",
    "# Loss function and optimizer\n",
    "criterion = nn.MSELoss()\n",
    "optimizer = optim.Adam(model.parameters(), lr=learning_rate)\n",
    "\n",
    "# Training loop\n",
    "for epoch in range(epochs):\n",
    "    model.train()  # Set model to training mode\n",
    "    epoch_loss = 0\n",
    "    \n",
    "    for batch_idx, (data, target) in enumerate(train_loader):\n",
    "        # Zero the gradients\n",
    "        optimizer.zero_grad()\n",
    "        \n",
    "        # Forward pass\n",
    "        output = model(data)\n",
    "        \n",
    "        # Compute loss\n",
    "        loss = criterion(output.squeeze(), target)\n",
    "        \n",
    "        # Backward pass and optimization\n",
    "        loss.backward()\n",
    "        optimizer.step()\n",
    "        \n",
    "        epoch_loss += loss.item()\n",
    "        \n",
    "    \n",
    "    avg_epoch_loss = epoch_loss / len(train_loader)\n",
    "    print(f\"Epoch [{epoch+1}/{epochs}], Loss: {avg_epoch_loss:.4f}\")"
   ]
  },
  {
   "cell_type": "code",
   "execution_count": 74,
   "metadata": {},
   "outputs": [],
   "source": [
    "torch.save(model.state_dict(), \"LSTM_MODEL/first_model.pt\")"
   ]
  },
  {
   "cell_type": "code",
   "execution_count": null,
   "metadata": {},
   "outputs": [],
   "source": [
    "# Improved LSTM Model\n",
    "class ImprovedStockLSTM(nn.Module):\n",
    "    def __init__(self, input_size, hidden_size, output_size, num_layers):\n",
    "        super(ImprovedStockLSTM, self).__init__()\n",
    "        \n",
    "        self.lstm = nn.LSTM(\n",
    "            input_size, \n",
    "            hidden_size, \n",
    "            num_layers, \n",
    "            batch_first=True, \n",
    "            dropout=0.2  # Add dropout between LSTM layers\n",
    "        )\n",
    "        \n",
    "        self.fc1 = nn.Linear(hidden_size, 32)\n",
    "        self.relu = nn.ReLU()\n",
    "        self.dropout = nn.Dropout(0.2)\n",
    "        self.fc2 = nn.Linear(32, output_size)\n",
    "    \n",
    "    def forward(self, x):\n",
    "        lstm_out, _ = self.lstm(x)\n",
    "        last_time_step = lstm_out[:, -1, :]\n",
    "        \n",
    "        x = self.fc1(last_time_step)\n",
    "        x = self.relu(x)\n",
    "        x = self.dropout(x)\n",
    "        out = self.fc2(x)\n",
    "        \n",
    "        return out"
   ]
  }
 ],
 "metadata": {
  "kernelspec": {
   "display_name": "v_ml_env",
   "language": "python",
   "name": "python3"
  },
  "language_info": {
   "codemirror_mode": {
    "name": "ipython",
    "version": 3
   },
   "file_extension": ".py",
   "mimetype": "text/x-python",
   "name": "python",
   "nbconvert_exporter": "python",
   "pygments_lexer": "ipython3",
   "version": "3.12.7"
  }
 },
 "nbformat": 4,
 "nbformat_minor": 2
}
